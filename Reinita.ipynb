{
  "nbformat": 4,
  "nbformat_minor": 0,
  "metadata": {
    "colab": {
      "provenance": [],
      "authorship_tag": "ABX9TyNpyC1BFXFdQHvrywFjohAs"
    },
    "kernelspec": {
      "name": "julia",
      "display_name": "Julia"
    },
    "language_info": {
      "name": "julia"
    }
  },
  "cells": [
    {
      "cell_type": "code",
      "execution_count": null,
      "metadata": {
        "colab": {
          "base_uri": "https://localhost:8080/"
        },
        "collapsed": true,
        "id": "WHEo9ak-W4OK",
        "outputId": "aa48bac0-77a9-4eda-b37b-b53ae5843e71"
      },
      "outputs": [
        {
          "output_type": "stream",
          "name": "stderr",
          "text": [
            "\u001b[32m\u001b[1m   Resolving\u001b[22m\u001b[39m package versions...\n",
            "\u001b[32m\u001b[1m  No Changes\u001b[22m\u001b[39m to `~/.julia/environments/v1.10/Project.toml`\n",
            "\u001b[32m\u001b[1m  No Changes\u001b[22m\u001b[39m to `~/.julia/environments/v1.10/Manifest.toml`\n",
            "\u001b[32m\u001b[1m   Resolving\u001b[22m\u001b[39m package versions...\n",
            "\u001b[32m\u001b[1m  No Changes\u001b[22m\u001b[39m to `~/.julia/environments/v1.10/Project.toml`\n",
            "\u001b[32m\u001b[1m  No Changes\u001b[22m\u001b[39m to `~/.julia/environments/v1.10/Manifest.toml`\n"
          ]
        }
      ],
      "source": [
        "# prompt: Descarga la librería jump y glpk para julia\n",
        "\n",
        "using Pkg; Pkg.add(\"JuMP\"); Pkg.add(\"GLPK\")"
      ]
    },
    {
      "cell_type": "markdown",
      "source": [
        "\"\"\"\n",
        "# Problema de las 8 reinas con Programación Entera\n",
        "\n",
        "El problema de las 8 reinas consiste en colocar 8 reinas en un tablero de ajedrez de 8x8 de manera que ninguna pueda atacar a otra. Esto implica que:\n",
        "\n",
        "1. No puede haber dos reinas en la misma fila.\n",
        "2. No puede haber dos reinas en la misma columna.\n",
        "3. No puede haber dos reinas en la misma diagonal.\n",
        "\n",
        "## Formulación matemática:\n",
        "\n",
        "Definimos una matriz binaria de variables de decisión:\n",
        "$$\n",
        "X_{ij} \\in \\{0,1\\}, \\quad \\text{donde } X_{ij} = 1 \\text{ si hay una reina en la celda } (i,j)\n",
        "$$\n",
        "\n",
        "### Restricciones:\n",
        "1. Cada fila debe contener exactamente una reina:\n",
        "   $$\n",
        "   \\sum_{j=1}^{8} X_{ij} = 1, \\quad \\forall i \\in \\{1, \\dots, 8\\}\n",
        "   $$\n",
        "2. Cada columna debe contener exactamente una reina:\n",
        "   $$\n",
        "   \\sum_{i=1}^{8} X_{ij} = 1, \\quad \\forall j \\in \\{1, \\dots, 8\\}\n",
        "   $$\n",
        "3. Restricciones de diagonales principales y secundarias:\n",
        "   $$\n",
        "   \\sum_{i-j = k} X_{ij} \\leq 1, \\quad \\forall k \\in \\{-7, \\dots, 7\\}\n",
        "   $$\n",
        "   $$\n",
        "   \\sum_{i+j = k} X_{ij} \\leq 1, \\quad \\forall k \\in \\{2, \\dots, 16\\}\n",
        "   $$\n",
        "\n",
        "## Implementación en Julia con JuMP y GLPK\n",
        "\"\"\""
      ],
      "metadata": {
        "id": "EpsUpc_EXqaI"
      }
    },
    {
      "cell_type": "code",
      "source": [
        "\n",
        "using JuMP, GLPK\n",
        "\n",
        "# Crear el modelo\n",
        "tablero = Model(GLPK.Optimizer)\n",
        "\n",
        "# Definir variables de decisión\n",
        "@variable(tablero, x[1:8, 1:8], Bin)\n",
        "\n",
        "# Función objetivo: Maximizar la suma de X (colocar todas las reinas)\n",
        "@objective(tablero, Max, sum(x[i, j] for i in 1:8 for j in 1:8))\n",
        "\n",
        "# Restricción: una reina por fila\n",
        "@constraint(tablero, [i in 1:8], sum(x[i, j] for j in 1:8) == 1)\n",
        "\n",
        "# Restricción: una reina por columna\n",
        "@constraint(tablero, [j in 1:8], sum(x[i, j] for i in 1:8) == 1)\n",
        "\n",
        "# Restricciones de diagonales principales\n",
        "@constraint(tablero, [k in -7:7], sum(x[i, j] for i in 1:8 for j in 1:8 if i - j == k) <= 1)\n",
        "\n",
        "# Restricciones de diagonales secundarias\n",
        "@constraint(tablero, [k in 2:16], sum(x[i, j] for i in 1:8 for j in 1:8 if i + j == k) <= 1)\n",
        "\n",
        "# Resolver el modelo\n",
        "optimize!(tablero)\n",
        "\n",
        "# Obtener el número de reinas en la solución\n",
        "num_reinas = objective_value(tablero)\n",
        "\n",
        "# Mostrar la solución\n",
        "println(\"Solución encontrada:\")\n",
        "for i in 1:8\n",
        "    for j in 1:8\n",
        "        print(value(x[i, j]) == 1 ? \"Q \" : \". \")\n",
        "    end\n",
        "    println()\n",
        "end\n",
        "\n",
        "println(\"Número de reinas en la solución: \", num_reinas)"
      ],
      "metadata": {
        "colab": {
          "base_uri": "https://localhost:8080/"
        },
        "id": "f73rVNhlbJPD",
        "outputId": "ea8f6da5-f438-4690-ac7d-435343dc3463"
      },
      "execution_count": null,
      "outputs": [
        {
          "output_type": "stream",
          "name": "stdout",
          "text": [
            "Solución encontrada:\n",
            ". . Q . . . . . \n",
            ". . . . . . Q . \n",
            ". Q . . . . . . \n",
            ". . . . . . . Q \n",
            ". . . . Q . . . \n",
            "Q . . . . . . . \n",
            ". . . Q . . . . \n",
            ". . . . . Q . . \n",
            "Número de reinas en la solución: 8.0\n"
          ]
        }
      ]
    }
  ]
}