{
  "nbformat": 4,
  "nbformat_minor": 0,
  "metadata": {
    "colab": {
      "provenance": [],
      "authorship_tag": "ABX9TyPOV/GuKebzxUC5eJn+LrfD",
      "include_colab_link": true
    },
    "kernelspec": {
      "name": "julia",
      "display_name": "Julia"
    },
    "language_info": {
      "name": "julia"
    }
  },
  "cells": [
    {
      "cell_type": "markdown",
      "metadata": {
        "id": "view-in-github",
        "colab_type": "text"
      },
      "source": [
        "<a href=\"https://colab.research.google.com/github/cmesajil/grafica/blob/main/encubrimiento_y_matching.ipynb\" target=\"_parent\"><img src=\"https://colab.research.google.com/assets/colab-badge.svg\" alt=\"Open In Colab\"/></a>"
      ]
    },
    {
      "cell_type": "code",
      "execution_count": 2,
      "metadata": {
        "colab": {
          "base_uri": "https://localhost:8080/",
          "height": 0
        },
        "id": "R4zFYL9TIoid",
        "outputId": "4b807d6f-0e59-4e01-e763-1841406587f7"
      },
      "outputs": [
        {
          "output_type": "stream",
          "name": "stderr",
          "text": [
            "\u001b[32m\u001b[1m   Resolving\u001b[22m\u001b[39m package versions...\n",
            "\u001b[32m\u001b[1m   Installed\u001b[22m\u001b[39m CodecBzip2 ───────── v0.8.5\n",
            "\u001b[32m\u001b[1m   Installed\u001b[22m\u001b[39m NaNMath ──────────── v1.1.3\n",
            "\u001b[32m\u001b[1m   Installed\u001b[22m\u001b[39m XZ_jll ───────────── v5.8.0+0\n",
            "\u001b[32m\u001b[1m   Installed\u001b[22m\u001b[39m Fontconfig_jll ───── v2.16.0+0\n",
            "\u001b[32m\u001b[1m   Installed\u001b[22m\u001b[39m BenchmarkTools ───── v1.6.0\n",
            "\u001b[32m\u001b[1m   Installed\u001b[22m\u001b[39m MutableArithmetics ─ v1.6.4\n",
            "\u001b[32m\u001b[1m   Installed\u001b[22m\u001b[39m XSLT_jll ─────────── v1.1.43+0\n",
            "\u001b[32m\u001b[1m   Installed\u001b[22m\u001b[39m StructTypes ──────── v1.11.0\n",
            "\u001b[32m\u001b[1m   Installed\u001b[22m\u001b[39m JSON3 ────────────── v1.14.2\n",
            "\u001b[32m\u001b[1m   Installed\u001b[22m\u001b[39m Xorg_libICE_jll ──── v1.1.2+0\n",
            "\u001b[32m\u001b[1m   Installed\u001b[22m\u001b[39m FFTW_jll ─────────── v3.3.11+0\n",
            "\u001b[32m\u001b[1m   Installed\u001b[22m\u001b[39m IntervalArithmetic ─ v0.22.28\n",
            "\u001b[32m\u001b[1m   Installed\u001b[22m\u001b[39m JuMP ─────────────── v1.25.0\n",
            "\u001b[32m\u001b[1m   Installed\u001b[22m\u001b[39m MathOptInterface ─── v1.38.0\n",
            "\u001b[32m\u001b[1m   Installed\u001b[22m\u001b[39m Graphite2_jll ────── v1.3.15+0\n",
            "\u001b[32m\u001b[1m   Installed\u001b[22m\u001b[39m Xorg_xtrans_jll ──── v1.6.0+0\n",
            "\u001b[32m\u001b[1m   Installed\u001b[22m\u001b[39m Libgcrypt_jll ────── v1.11.1+0\n",
            "\u001b[32m\u001b[1m   Installed\u001b[22m\u001b[39m StructArrays ─────── v0.7.1\n",
            "\u001b[32m\u001b[1m   Installed\u001b[22m\u001b[39m ForwardDiff ──────── v0.10.38\n",
            "\u001b[32m\u001b[1m    Updating\u001b[22m\u001b[39m `~/.julia/environments/v1.10/Project.toml`\n",
            "  \u001b[90m[4076af6c] \u001b[39m\u001b[92m+ JuMP v1.25.0\u001b[39m\n",
            "\u001b[32m\u001b[1m    Updating\u001b[22m\u001b[39m `~/.julia/environments/v1.10/Manifest.toml`\n",
            "  \u001b[90m[6e4b80f9] \u001b[39m\u001b[92m+ BenchmarkTools v1.6.0\u001b[39m\n",
            "  \u001b[90m[523fee87] \u001b[39m\u001b[92m+ CodecBzip2 v0.8.5\u001b[39m\n",
            "\u001b[33m⌅\u001b[39m \u001b[90m[f6369f11] \u001b[39m\u001b[95m↓ ForwardDiff v1.0.0 ⇒ v0.10.38\u001b[39m\n",
            "  \u001b[90m[d1acc4aa] \u001b[39m\u001b[93m↑ IntervalArithmetic v0.22.27 ⇒ v0.22.28\u001b[39m\n",
            "  \u001b[90m[0f8b85d8] \u001b[39m\u001b[92m+ JSON3 v1.14.2\u001b[39m\n",
            "  \u001b[90m[4076af6c] \u001b[39m\u001b[92m+ JuMP v1.25.0\u001b[39m\n",
            "  \u001b[90m[b8f27783] \u001b[39m\u001b[92m+ MathOptInterface v1.38.0\u001b[39m\n",
            "  \u001b[90m[d8a4904e] \u001b[39m\u001b[92m+ MutableArithmetics v1.6.4\u001b[39m\n",
            "  \u001b[90m[77ba4419] \u001b[39m\u001b[93m↑ NaNMath v1.1.2 ⇒ v1.1.3\u001b[39m\n",
            "  \u001b[90m[09ab397b] \u001b[39m\u001b[93m↑ StructArrays v0.7.0 ⇒ v0.7.1\u001b[39m\n",
            "  \u001b[90m[856f2bd8] \u001b[39m\u001b[92m+ StructTypes v1.11.0\u001b[39m\n",
            "  \u001b[90m[f5851436] \u001b[39m\u001b[93m↑ FFTW_jll v3.3.10+3 ⇒ v3.3.11+0\u001b[39m\n",
            "  \u001b[90m[a3f928ae] \u001b[39m\u001b[93m↑ Fontconfig_jll v2.15.0+0 ⇒ v2.16.0+0\u001b[39m\n",
            "  \u001b[90m[3b182d85] \u001b[39m\u001b[93m↑ Graphite2_jll v1.3.14+1 ⇒ v1.3.15+0\u001b[39m\n",
            "  \u001b[90m[d4300ac3] \u001b[39m\u001b[93m↑ Libgcrypt_jll v1.11.0+0 ⇒ v1.11.1+0\u001b[39m\n",
            "  \u001b[90m[aed1982a] \u001b[39m\u001b[93m↑ XSLT_jll v1.1.42+0 ⇒ v1.1.43+0\u001b[39m\n",
            "  \u001b[90m[ffd25f8a] \u001b[39m\u001b[93m↑ XZ_jll v5.6.4+1 ⇒ v5.8.0+0\u001b[39m\n",
            "  \u001b[90m[f67eecfb] \u001b[39m\u001b[93m↑ Xorg_libICE_jll v1.1.1+0 ⇒ v1.1.2+0\u001b[39m\n",
            "  \u001b[90m[c5fb5394] \u001b[39m\u001b[93m↑ Xorg_xtrans_jll v1.5.1+0 ⇒ v1.6.0+0\u001b[39m\n",
            "  \u001b[90m[9abbd945] \u001b[39m\u001b[92m+ Profile\u001b[39m\n",
            "\u001b[36m\u001b[1m        Info\u001b[22m\u001b[39m Packages marked with \u001b[33m⌅\u001b[39m have new versions available but compatibility constraints restrict them from upgrading. To see why use `status --outdated -m`\n",
            "\u001b[32m\u001b[1mPrecompiling\u001b[22m\u001b[39m packages...\n",
            "   3502.5 ms\u001b[32m  ✓ \u001b[39m\u001b[90mStructTypes\u001b[39m\n",
            "   2025.1 ms\u001b[32m  ✓ \u001b[39m\u001b[90mNaNMath\u001b[39m\n",
            "   1140.9 ms\u001b[32m  ✓ \u001b[39m\u001b[90mXorg_libICE_jll\u001b[39m\n",
            "   1445.8 ms\u001b[32m  ✓ \u001b[39m\u001b[90mGraphite2_jll\u001b[39m\n",
            "   1418.1 ms\u001b[32m  ✓ \u001b[39m\u001b[90mXZ_jll\u001b[39m\n",
            "   1324.7 ms\u001b[32m  ✓ \u001b[39m\u001b[90mXorg_xtrans_jll\u001b[39m\n",
            "   1379.7 ms\u001b[32m  ✓ \u001b[39m\u001b[90mFFTW_jll\u001b[39m\n",
            "   2872.3 ms\u001b[32m  ✓ \u001b[39m\u001b[90mStructArrays\u001b[39m\n",
            "   2141.7 ms\u001b[32m  ✓ \u001b[39m\u001b[90mCodecBzip2\u001b[39m\n",
            "   2193.7 ms\u001b[32m  ✓ \u001b[39m\u001b[90mFontconfig_jll\u001b[39m\n",
            "   1400.3 ms\u001b[32m  ✓ \u001b[39m\u001b[90mLibgcrypt_jll\u001b[39m\n",
            "   3925.1 ms\u001b[32m  ✓ \u001b[39m\u001b[90mBenchmarkTools\u001b[39m\n",
            "   7066.2 ms\u001b[32m  ✓ \u001b[39m\u001b[90mIntervalArithmetic\u001b[39m\n",
            "  20557.0 ms\u001b[32m  ✓ \u001b[39m\u001b[90mMutableArithmetics\u001b[39m\n",
            "  15420.8 ms\u001b[32m  ✓ \u001b[39m\u001b[90mRecipesPipeline\u001b[39m\n",
            "  10875.7 ms\u001b[32m  ✓ \u001b[39m\u001b[90mForwardDiff\u001b[39m\n",
            "   1645.2 ms\u001b[32m  ✓ \u001b[39m\u001b[90mXorg_libSM_jll\u001b[39m\n",
            "   2384.1 ms\u001b[32m  ✓ \u001b[39m\u001b[90mLibtiff_jll\u001b[39m\n",
            "   1509.5 ms\u001b[32m  ✓ \u001b[39m\u001b[90mStructArrays → StructArraysLinearAlgebraExt\u001b[39m\n",
            "   1490.1 ms\u001b[32m  ✓ \u001b[39m\u001b[90mXSLT_jll\u001b[39m\n",
            "  30617.9 ms\u001b[32m  ✓ \u001b[39m\u001b[90mJSON3\u001b[39m\n",
            "   1857.7 ms\u001b[32m  ✓ \u001b[39m\u001b[90mIntervalArithmetic → IntervalArithmeticIntervalSetsExt\u001b[39m\n",
            "   1388.8 ms\u001b[32m  ✓ \u001b[39m\u001b[90mIntervalArithmetic → IntervalArithmeticRecipesBaseExt\u001b[39m\n",
            "  13356.0 ms\u001b[32m  ✓ \u001b[39m\u001b[90mExactPredicates\u001b[39m\n",
            "   1273.9 ms\u001b[32m  ✓ \u001b[39m\u001b[90mIntervalArithmetic → IntervalArithmeticDiffRulesExt\u001b[39m\n",
            "   1040.3 ms\u001b[32m  ✓ \u001b[39m\u001b[90mStructArrays → StructArraysAdaptExt\u001b[39m\n",
            "   2171.5 ms\u001b[32m  ✓ \u001b[39m\u001b[90mForwardDiff → ForwardDiffStaticArraysExt\u001b[39m\n",
            "   1879.0 ms\u001b[32m  ✓ \u001b[39m\u001b[90mStructArrays → StructArraysSparseArraysExt\u001b[39m\n",
            "   1866.4 ms\u001b[32m  ✓ \u001b[39m\u001b[90mStructArrays → StructArraysStaticArraysExt\u001b[39m\n",
            "   1625.0 ms\u001b[32m  ✓ \u001b[39m\u001b[90mXorg_libX11_jll\u001b[39m\n",
            "  13168.4 ms\u001b[32m  ✓ \u001b[39m\u001b[90mDelaunayTriangulation\u001b[39m\n",
            "   4443.1 ms\u001b[32m  ✓ \u001b[39m\u001b[90mNNlib → NNlibForwardDiffExt\u001b[39m\n",
            "   2570.3 ms\u001b[32m  ✓ \u001b[39m\u001b[90mStructArrays → StructArraysGPUArraysCoreExt\u001b[39m\n",
            "  43093.0 ms\u001b[32m  ✓ \u001b[39m\u001b[90mFFTW\u001b[39m\n",
            "   1641.1 ms\u001b[32m  ✓ \u001b[39m\u001b[90mXorg_libXrender_jll\u001b[39m\n",
            "   1392.4 ms\u001b[32m  ✓ \u001b[39m\u001b[90mXorg_libXext_jll\u001b[39m\n",
            "   1361.0 ms\u001b[32m  ✓ \u001b[39m\u001b[90mXorg_libxkbfile_jll\u001b[39m\n",
            "   1618.9 ms\u001b[32m  ✓ \u001b[39m\u001b[90mXorg_libXfixes_jll\u001b[39m\n",
            "   3561.5 ms\u001b[32m  ✓ \u001b[39m\u001b[90mNNlib → NNlibFFTWExt\u001b[39m\n",
            "   6190.9 ms\u001b[32m  ✓ \u001b[39m\u001b[90mKernelDensity\u001b[39m\n",
            "   1523.4 ms\u001b[32m  ✓ \u001b[39m\u001b[90mXorg_libXinerama_jll\u001b[39m\n",
            "   1332.8 ms\u001b[32m  ✓ \u001b[39m\u001b[90mXorg_libXrandr_jll\u001b[39m\n",
            "  13384.7 ms\u001b[32m  ✓ \u001b[39m\u001b[90mLuxLib\u001b[39m\n",
            "   1829.1 ms\u001b[32m  ✓ \u001b[39m\u001b[90mCairo_jll\u001b[39m\n",
            "   1786.4 ms\u001b[32m  ✓ \u001b[39m\u001b[90mLibglvnd_jll\u001b[39m\n",
            "   1320.5 ms\u001b[32m  ✓ \u001b[39m\u001b[90mXorg_xkbcomp_jll\u001b[39m\n",
            "   1517.8 ms\u001b[32m  ✓ \u001b[39m\u001b[90mXorg_libXcursor_jll\u001b[39m\n",
            "   1583.4 ms\u001b[32m  ✓ \u001b[39m\u001b[90mXorg_libXi_jll\u001b[39m\n",
            "   4965.0 ms\u001b[32m  ✓ \u001b[39m\u001b[90mLuxLib → LuxLibEnzymeExt\u001b[39m\n",
            "   1628.9 ms\u001b[32m  ✓ \u001b[39m\u001b[90mHarfBuzz_jll\u001b[39m\n",
            "   1969.0 ms\u001b[32m  ✓ \u001b[39m\u001b[90mlibwebp_jll\u001b[39m\n",
            "   1303.5 ms\u001b[32m  ✓ \u001b[39m\u001b[90mXorg_xkeyboard_config_jll\u001b[39m\n",
            "   1598.1 ms\u001b[32m  ✓ \u001b[39m\u001b[90mlibass_jll\u001b[39m\n",
            "   1512.7 ms\u001b[32m  ✓ \u001b[39m\u001b[90mPango_jll\u001b[39m\n",
            "   6626.8 ms\u001b[32m  ✓ \u001b[39m\u001b[90mWebP\u001b[39m\n",
            "   1580.6 ms\u001b[32m  ✓ \u001b[39m\u001b[90mxkbcommon_jll\u001b[39m\n",
            "   2449.1 ms\u001b[32m  ✓ \u001b[39m\u001b[90mFFMPEG_jll\u001b[39m\n",
            "   2166.5 ms\u001b[32m  ✓ \u001b[39m\u001b[90mVulkan_Loader_jll\u001b[39m\n",
            "  26504.8 ms\u001b[32m  ✓ \u001b[39mLux\n",
            "   2644.3 ms\u001b[32m  ✓ \u001b[39m\u001b[90mlibdecor_jll\u001b[39m\n",
            "   1918.3 ms\u001b[32m  ✓ \u001b[39m\u001b[90mFFMPEG\u001b[39m\n",
            "   2467.0 ms\u001b[32m  ✓ \u001b[39m\u001b[90mQt6Base_jll\u001b[39m\n",
            "   7038.4 ms\u001b[32m  ✓ \u001b[39mLux → LuxEnzymeExt\n",
            "   2731.3 ms\u001b[32m  ✓ \u001b[39m\u001b[90mGLFW_jll\u001b[39m\n",
            "   2088.3 ms\u001b[32m  ✓ \u001b[39m\u001b[90mQt6ShaderTools_jll\u001b[39m\n",
            "  20596.8 ms\u001b[32m  ✓ \u001b[39mLux → LuxReactantExt\n",
            "   3485.9 ms\u001b[32m  ✓ \u001b[39m\u001b[90mGR_jll\u001b[39m\n",
            "   4865.3 ms\u001b[32m  ✓ \u001b[39m\u001b[90mQt6Declarative_jll\u001b[39m\n",
            "   2342.4 ms\u001b[32m  ✓ \u001b[39m\u001b[90mQt6Wayland_jll\u001b[39m\n",
            "  14221.2 ms\u001b[32m  ✓ \u001b[39m\u001b[90mGR\u001b[39m\n",
            " 148672.7 ms\u001b[32m  ✓ \u001b[39m\u001b[90mMathOptInterface\u001b[39m\n",
            "  72376.1 ms\u001b[32m  ✓ \u001b[39mJuMP\n",
            " 214896.7 ms\u001b[32m  ✓ \u001b[39mPlots\n",
            "   8432.7 ms\u001b[32m  ✓ \u001b[39mPlots → UnitfulExt\n",
            "   9097.6 ms\u001b[32m  ✓ \u001b[39mPlots → IJuliaExt\n",
            "  11670.2 ms\u001b[32m  ✓ \u001b[39mPlots → GeometryBasicsExt\n",
            "   6619.8 ms\u001b[32m  ✓ \u001b[39mPlots → FileIOExt\n",
            " 380110.0 ms\u001b[32m  ✓ \u001b[39mMakie\n",
            "  78 dependencies successfully precompiled in 512 seconds. 389 already precompiled.\n",
            "\u001b[32m\u001b[1m   Resolving\u001b[22m\u001b[39m package versions...\n",
            "\u001b[32m\u001b[1m   Installed\u001b[22m\u001b[39m GLPK_jll ─ v5.0.1+1\n",
            "\u001b[32m\u001b[1m   Installed\u001b[22m\u001b[39m GLPK ───── v1.2.1\n",
            "\u001b[32m\u001b[1m    Updating\u001b[22m\u001b[39m `~/.julia/environments/v1.10/Project.toml`\n",
            "  \u001b[90m[60bf3e95] \u001b[39m\u001b[92m+ GLPK v1.2.1\u001b[39m\n",
            "\u001b[32m\u001b[1m    Updating\u001b[22m\u001b[39m `~/.julia/environments/v1.10/Manifest.toml`\n",
            "  \u001b[90m[60bf3e95] \u001b[39m\u001b[92m+ GLPK v1.2.1\u001b[39m\n",
            "  \u001b[90m[e8aa6df9] \u001b[39m\u001b[92m+ GLPK_jll v5.0.1+1\u001b[39m\n",
            "  \u001b[90m[781609d7] \u001b[39m\u001b[92m+ GMP_jll v6.2.1+6\u001b[39m\n",
            "\u001b[32m\u001b[1mPrecompiling\u001b[22m\u001b[39m packages...\n",
            "   1369.7 ms\u001b[32m  ✓ \u001b[39m\u001b[90mGLPK_jll\u001b[39m\n",
            "   8191.3 ms\u001b[32m  ✓ \u001b[39mGLPK\n",
            "  2 dependencies successfully precompiled in 11 seconds. 468 already precompiled.\n"
          ]
        }
      ],
      "source": [
        "# prompt: instala los paquetes jump y glpk usando pkg con julia\n",
        "\n",
        "using Pkg\n",
        "Pkg.add(\"JuMP\")\n",
        "Pkg.add(\"GLPK\")"
      ]
    },
    {
      "cell_type": "code",
      "source": [
        "# prompt: dame la adyacencia de un grafo que tenga de enlaces 1 2,1 4,2 3,2 10,3 2 ,3 4,3 7,3 6,3 5,4 1,4 10-, 4 3, 4 7 ,4 6,4 5 ,5 3, 5 9, 5 6 , 5 4 ,5 8 , 6 4 ,6 7 ,6 3, 6 9 ,6 5, 6 8, 7 4, 7 10 ,7 3 , 7 6 ,8 6 , 8 5 ,9 5 ,9 6 , 10 2, 10 4 ,10 7 . en codigo julia\n",
        "\n",
        "# Número de nodos en el grafo\n",
        "nodos = 10\n",
        "\n",
        "# Inicializamos la matriz de adyacencia\n",
        "adyacencia = zeros(Int, nodos, nodos)\n",
        "\n",
        "# Lista de enlaces proporcionados\n",
        "enlaces = [\n",
        "    (1, 2), (1, 4),(2,1),(2, 3), (2, 10), (3, 2), (3, 4), (3, 7), (3, 6), (3, 5),\n",
        "    (4, 1), (4, 10), (4, 3), (4, 7), (4, 6), (4, 5), (5, 3), (5, 9), (5, 6),\n",
        "    (5, 4), (5, 8), (6, 4), (6, 7), (6, 3), (6, 9), (6, 5), (6, 8), (7, 4),\n",
        "    (7, 10), (7, 3), (7, 6), (8, 6), (8, 5), (9, 5), (9, 6), (10, 2), (10, 4),\n",
        "    (10, 7)\n",
        "]\n",
        "\n",
        "# Llenamos la matriz de adyacencia con 1 donde haya un enlace entre dos nodos\n",
        "for (i, j) in enlaces\n",
        "    adyacencia[i, j] = 1\n",
        "    adyacencia[j, i] = 1  # Asumimos que el grafo es no dirigido\n",
        "end\n",
        "\n",
        "# Mostrar la matriz de adyacencia\n",
        "println(\"Matriz de adyacencia:\")\n",
        "println(adyacencia)\n"
      ],
      "metadata": {
        "colab": {
          "base_uri": "https://localhost:8080/",
          "height": 0
        },
        "id": "79mOFW6sJRKG",
        "outputId": "e4e1b848-441e-41b6-98c7-eb33c97ca3ec"
      },
      "execution_count": 22,
      "outputs": [
        {
          "output_type": "stream",
          "name": "stdout",
          "text": [
            "Matriz de adyacencia:\n",
            "[0 1 0 1 0 0 0 0 0 0; 1 0 1 0 0 0 0 0 0 1; 0 1 0 1 1 1 1 0 0 0; 1 0 1 0 1 1 1 0 0 1; 0 0 1 1 0 1 0 1 1 0; 0 0 1 1 1 0 1 1 1 0; 0 0 1 1 0 1 0 0 0 1; 0 0 0 0 1 1 0 0 0 0; 0 0 0 0 1 1 0 0 0 0; 0 1 0 1 0 0 1 0 0 0]\n"
          ]
        }
      ]
    },
    {
      "cell_type": "code",
      "source": [
        "using JuMP\n",
        "using GLPK\n",
        "\n",
        "\n",
        "\n",
        "n= size(adyacencia, 2)\n",
        "#Modelo de optimización\n",
        "modelo = Model(GLPK.Optimizer)\n",
        "\n",
        "# Variables de decisión (binarias)\n",
        "@variable(modelo, x[1:n, 1:n], Bin)\n",
        "\n",
        "# Función objetivo (minimizar el costo total)\n",
        "@objective(modelo, Max, sum(adyacencia[i, j] * x[i, j] for i in 1:n, j in 1:n))\n",
        "\n",
        "# Restricciones\n",
        "# Cada trabajo debe ser asignado a una sola máquina\n",
        "@constraint(modelo, [i in 1:n], sum(x[i, j] for j in 1:n) <= 1)\n",
        "\n",
        "# Cada máquina debe ser asignada a un solo trabajo\n",
        "@constraint(modelo, [j in 1:n], sum(x[i, j] for i in 1:n) <= 1)\n",
        "\n",
        "# Resolver el modelo\n",
        "optimize!(modelo)\n",
        "\n",
        "# Mostrar la solución\n",
        "println(\"cardinal del matching: \", objective_value(modelo))\n",
        "println(\"x:\")\n",
        "for i in 1:n\n",
        "    for j in 1:n\n",
        "        if value(x[i,j]) ≈ 1\n",
        "            println(\"x[$i,$j] ≈ 1\")\n",
        "        end\n",
        "    end\n",
        "end"
      ],
      "metadata": {
        "colab": {
          "base_uri": "https://localhost:8080/",
          "height": 144
        },
        "id": "dDXx6nniK_zI",
        "outputId": "97048154-d2a8-4f44-f6d3-60b9969d484e"
      },
      "execution_count": 28,
      "outputs": [
        {
          "output_type": "error",
          "ename": "LoadError",
          "evalue": "ParseError:\n\u001b[90m# Error @ \u001b[0;0m\u001b]8;;file:///content/In[28]#21:44\u001b\\\u001b[90mIn[28]:21:44\u001b[0;0m\u001b]8;;\u001b\\\n# Cada máquina debe ser asignada a un solo trabajo\n@constraint(modelo, [j in 1:n], sum(x[i, j]\u001b[48;2;120;70;70m\u001b[0;0mfor i in 1:n) <= 1)\n\u001b[90m#                                          └ ── \u001b[0;0m\u001b[91mExpected space before `for` in generator\u001b[0;0m",
          "traceback": [
            "ParseError:\n\u001b[90m# Error @ \u001b[0;0m\u001b]8;;file:///content/In[28]#21:44\u001b\\\u001b[90mIn[28]:21:44\u001b[0;0m\u001b]8;;\u001b\\\n# Cada máquina debe ser asignada a un solo trabajo\n@constraint(modelo, [j in 1:n], sum(x[i, j]\u001b[48;2;120;70;70m\u001b[0;0mfor i in 1:n) <= 1)\n\u001b[90m#                                          └ ── \u001b[0;0m\u001b[91mExpected space before `for` in generator\u001b[0;0m",
            "",
            "Stacktrace:",
            " [1] top-level scope",
            "   @ In[28]:21"
          ]
        }
      ]
    },
    {
      "cell_type": "code",
      "source": [
        "adyacencia"
      ],
      "metadata": {
        "colab": {
          "base_uri": "https://localhost:8080/",
          "height": 0
        },
        "id": "Vf__WOAKR3MC",
        "outputId": "8177448c-f51e-4469-ff23-50b02213b3bf"
      },
      "execution_count": 24,
      "outputs": [
        {
          "output_type": "execute_result",
          "data": {
            "text/plain": [
              "10×10 Matrix{Int64}:\n",
              " 0  1  0  1  0  0  0  0  0  0\n",
              " 1  0  1  0  0  0  0  0  0  1\n",
              " 0  1  0  1  1  1  1  0  0  0\n",
              " 1  0  1  0  1  1  1  0  0  1\n",
              " 0  0  1  1  0  1  0  1  1  0\n",
              " 0  0  1  1  1  0  1  1  1  0\n",
              " 0  0  1  1  0  1  0  0  0  1\n",
              " 0  0  0  0  1  1  0  0  0  0\n",
              " 0  0  0  0  1  1  0  0  0  0\n",
              " 0  1  0  1  0  0  1  0  0  0"
            ]
          },
          "metadata": {},
          "execution_count": 24
        }
      ]
    },
    {
      "cell_type": "code",
      "source": [
        "n= size(adyacencia, 2)\n",
        "#Modelo de optimización\n",
        "modelo2 = Model(GLPK.Optimizer)\n",
        "\n",
        "# Variables de decisión (binarias)\n",
        "@variable(modelo2, x[1:n], Bin)\n",
        "\n",
        "# Función objetivo (minimizar el costo total)\n",
        "@objective(modelo2, Max, sum(x[i] for i in 1:n))\n",
        "\n",
        "# Restricciones\n",
        "@constraint(modelo2,\n",
        "    [i in 1:n, j in 1:n],\n",
        "    sum(adyacencia[i, k] for k in 1:n) <= x[i] + x[j]\n",
        ")\n",
        "\n",
        "# Resolver el modelo\n",
        "optimize!(modelo2)\n",
        "\n",
        "# Mostrar la solución\n",
        "println(\"cardinal del matching: \", objective_value(modelo2))\n",
        "println(\"x:\")\n",
        "for i in 1:n\n",
        "  println(value(x[i,j]))\n",
        "end"
      ],
      "metadata": {
        "colab": {
          "base_uri": "https://localhost:8080/",
          "height": 484
        },
        "id": "WiRRJlHKSvK8",
        "outputId": "2f8c00c5-fee0-4c51-d16d-d04d3b3d8611"
      },
      "execution_count": 30,
      "outputs": [
        {
          "output_type": "error",
          "ename": "LoadError",
          "evalue": "Result index of attribute MathOptInterface.ObjectiveValue(1) out of bounds. There are currently 0 solution(s) in the model.",
          "traceback": [
            "Result index of attribute MathOptInterface.ObjectiveValue(1) out of bounds. There are currently 0 solution(s) in the model.",
            "",
            "Stacktrace:",
            "  [1] check_result_index_bounds",
            "    @ ~/.julia/packages/MathOptInterface/jGuEH/src/attributes.jl:207 [inlined]",
            "  [2] get(model::GLPK.Optimizer, attr::MathOptInterface.ObjectiveValue)",
            "    @ GLPK ~/.julia/packages/GLPK/2y5V8/src/MOI_wrapper/MOI_wrapper.jl:1955",
            "  [3] get(b::MathOptInterface.Bridges.LazyBridgeOptimizer{GLPK.Optimizer}, attr::MathOptInterface.ObjectiveValue)",
            "    @ MathOptInterface.Bridges ~/.julia/packages/MathOptInterface/jGuEH/src/Bridges/bridge_optimizer.jl:1100",
            "  [4] _get_model_attribute(model::MathOptInterface.Utilities.CachingOptimizer{MathOptInterface.Bridges.LazyBridgeOptimizer{GLPK.Optimizer}, MathOptInterface.Utilities.UniversalFallback{MathOptInterface.Utilities.Model{Float64}}}, attr::MathOptInterface.ObjectiveValue)",
            "    @ MathOptInterface.Utilities ~/.julia/packages/MathOptInterface/jGuEH/src/Utilities/cachingoptimizer.jl:808",
            "  [5] get",
            "    @ ~/.julia/packages/MathOptInterface/jGuEH/src/Utilities/cachingoptimizer.jl:871 [inlined]",
            "  [6] _moi_get_result(model::MathOptInterface.Utilities.CachingOptimizer{MathOptInterface.Bridges.LazyBridgeOptimizer{GLPK.Optimizer}, MathOptInterface.Utilities.UniversalFallback{MathOptInterface.Utilities.Model{Float64}}}, args::MathOptInterface.ObjectiveValue)",
            "    @ JuMP ~/.julia/packages/JuMP/RGIK3/src/optimizer_interface.jl:1137",
            "  [7] get(model::Model, attr::MathOptInterface.ObjectiveValue)",
            "    @ JuMP ~/.julia/packages/JuMP/RGIK3/src/optimizer_interface.jl:1157",
            "  [8] objective_value(model::Model; result::Int64)",
            "    @ JuMP ~/.julia/packages/JuMP/RGIK3/src/objective.jl:122",
            "  [9] objective_value(model::Model)",
            "    @ JuMP ~/.julia/packages/JuMP/RGIK3/src/objective.jl:118",
            " [10] top-level scope",
            "    @ In[30]:21"
          ]
        }
      ]
    },
    {
      "cell_type": "code",
      "source": [
        "function resolver_reinas(n)\n",
        "    modelo = Model(GLPK.Optimizer)  # Usamos el solver GLPK\n",
        "\n",
        "    # Variables binarias x[i, j] = 1 si hay una reina en la celda (i, j), 0 en caso contrario\n",
        "    @variable(modelo, x[1:n, 1:n], Bin)\n",
        "\n",
        "    # Restricción 1: Una reina por fila\n",
        "    for i in 1:n\n",
        "        @constraint(modelo, sum(x[i, j] for j in 1:n) == 1)\n",
        "    end\n",
        "\n",
        "    # Restricción 2: Una reina por columna\n",
        "    for j in 1:n\n",
        "        @constraint(modelo, sum(x[i, j] for i in 1:n) == 1)\n",
        "    end\n",
        "\n",
        "    # Restricción 3: Diagonales principales (↘)\n",
        "    for k in 2:(2n-1)\n",
        "        @constraint(modelo, sum(x[i, j] for i in 1:n for j in 1:n if i + j == k) ≤ 1)\n",
        "    end\n",
        "\n",
        "    # Restricción 4: Diagonales secundarias (↙)\n",
        "    for k in -n+1:n-1\n",
        "        @constraint(modelo, sum(x[i, j] for i in 1:n for j in 1:n if i - j == k) ≤ 1)\n",
        "    end\n",
        "\n",
        "    # No necesitamos función objetivo (es un problema de factibilidad)\n",
        "\n",
        "    # Resolver el modelo\n",
        "    optimize!(modelo)\n",
        "\n",
        "    # Verificar si hay solución óptima\n",
        "    if termination_status(modelo) == MOI.OPTIMAL\n",
        "        solucion = value.(x)  # Obtener los valores óptimos de las variables\n",
        "        println(\"Solución encontrada para \", n, \" reinas:\")\n",
        "        for i in 1:n\n",
        "            println(join([solucion[i, j] == 1 ? \"♛\" : \".\" for j in 1:n], \" \"))\n",
        "        end\n",
        "    else\n",
        "        println(\"No se encontró una solución óptima.\")\n",
        "    end\n",
        "end\n",
        "\n",
        "# Llamamos a la función para resolver el problema con un tablero de 10x10\n",
        "resolver_reinas(10)"
      ],
      "metadata": {
        "id": "YrHd_bCiTlQ1"
      },
      "execution_count": null,
      "outputs": []
    }
  ]
}