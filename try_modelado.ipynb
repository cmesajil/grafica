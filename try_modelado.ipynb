{
  "nbformat": 4,
  "nbformat_minor": 0,
  "metadata": {
    "colab": {
      "provenance": [],
      "authorship_tag": "ABX9TyOLFjhe/niYkjAq0TZSyh7K",
      "include_colab_link": true
    },
    "kernelspec": {
      "name": "julia",
      "display_name": "Julia"
    },
    "language_info": {
      "name": "julia"
    }
  },
  "cells": [
    {
      "cell_type": "markdown",
      "metadata": {
        "id": "view-in-github",
        "colab_type": "text"
      },
      "source": [
        "<a href=\"https://colab.research.google.com/github/cmesajil/grafica/blob/main/try_modelado.ipynb\" target=\"_parent\"><img src=\"https://colab.research.google.com/assets/colab-badge.svg\" alt=\"Open In Colab\"/></a>"
      ]
    },
    {
      "cell_type": "code",
      "execution_count": 6,
      "metadata": {
        "colab": {
          "base_uri": "https://localhost:8080/"
        },
        "collapsed": true,
        "id": "kbxTTrvZ3u3H",
        "outputId": "66cd0a0d-b49a-4b04-c127-a8061d1b6d4b"
      },
      "outputs": [
        {
          "output_type": "stream",
          "name": "stderr",
          "text": [
            "\u001b[32m\u001b[1m    Updating\u001b[22m\u001b[39m registry at `~/.julia/registries/General.toml`\n",
            "\u001b[32m\u001b[1m   Resolving\u001b[22m\u001b[39m package versions...\n",
            "\u001b[32m\u001b[1m   Installed\u001b[22m\u001b[39m JSON3 ────────────── v1.14.2\n",
            "\u001b[32m\u001b[1m   Installed\u001b[22m\u001b[39m CodecBzip2 ───────── v0.8.5\n",
            "\u001b[32m\u001b[1m   Installed\u001b[22m\u001b[39m StructTypes ──────── v1.11.0\n",
            "\u001b[32m\u001b[1m   Installed\u001b[22m\u001b[39m BenchmarkTools ───── v1.6.0\n",
            "\u001b[32m\u001b[1m   Installed\u001b[22m\u001b[39m MutableArithmetics ─ v1.6.4\n",
            "\u001b[32m\u001b[1m   Installed\u001b[22m\u001b[39m MathOptInterface ─── v1.38.0\n",
            "\u001b[32m\u001b[1m   Installed\u001b[22m\u001b[39m JuMP ─────────────── v1.25.0\n",
            "\u001b[32m\u001b[1m    Updating\u001b[22m\u001b[39m `~/.julia/environments/v1.10/Project.toml`\n",
            "  \u001b[90m[4076af6c] \u001b[39m\u001b[92m+ JuMP v1.25.0\u001b[39m\n",
            "\u001b[32m\u001b[1m    Updating\u001b[22m\u001b[39m `~/.julia/environments/v1.10/Manifest.toml`\n",
            "  \u001b[90m[6e4b80f9] \u001b[39m\u001b[92m+ BenchmarkTools v1.6.0\u001b[39m\n",
            "  \u001b[90m[523fee87] \u001b[39m\u001b[92m+ CodecBzip2 v0.8.5\u001b[39m\n",
            "  \u001b[90m[0f8b85d8] \u001b[39m\u001b[92m+ JSON3 v1.14.2\u001b[39m\n",
            "  \u001b[90m[4076af6c] \u001b[39m\u001b[92m+ JuMP v1.25.0\u001b[39m\n",
            "  \u001b[90m[b8f27783] \u001b[39m\u001b[92m+ MathOptInterface v1.38.0\u001b[39m\n",
            "  \u001b[90m[d8a4904e] \u001b[39m\u001b[92m+ MutableArithmetics v1.6.4\u001b[39m\n",
            "  \u001b[90m[856f2bd8] \u001b[39m\u001b[92m+ StructTypes v1.11.0\u001b[39m\n",
            "  \u001b[90m[9abbd945] \u001b[39m\u001b[92m+ Profile\u001b[39m\n",
            "\u001b[32m\u001b[1mPrecompiling\u001b[22m\u001b[39m packages...\n",
            "   5703.6 ms\u001b[32m  ✓ \u001b[39m\u001b[90mStructTypes\u001b[39m\n",
            "   4049.1 ms\u001b[32m  ✓ \u001b[39m\u001b[90mCodecBzip2\u001b[39m\n",
            "   4557.9 ms\u001b[32m  ✓ \u001b[39m\u001b[90mBenchmarkTools\u001b[39m\n",
            "  17783.1 ms\u001b[32m  ✓ \u001b[39m\u001b[90mMutableArithmetics\u001b[39m\n",
            "  19609.0 ms\u001b[32m  ✓ \u001b[39m\u001b[90mJSON3\u001b[39m\n",
            "  63678.1 ms\u001b[32m  ✓ \u001b[39m\u001b[90mMathOptInterface\u001b[39m\n",
            "  29095.6 ms\u001b[32m  ✓ \u001b[39mJuMP\n",
            "  7 dependencies successfully precompiled in 127 seconds. 459 already precompiled.\n",
            "\u001b[32m\u001b[1m   Resolving\u001b[22m\u001b[39m package versions...\n",
            "\u001b[32m\u001b[1m   Installed\u001b[22m\u001b[39m GLPK_jll ─ v5.0.1+1\n",
            "\u001b[32m\u001b[1m   Installed\u001b[22m\u001b[39m GLPK ───── v1.2.1\n",
            "\u001b[32m\u001b[1m    Updating\u001b[22m\u001b[39m `~/.julia/environments/v1.10/Project.toml`\n",
            "  \u001b[90m[60bf3e95] \u001b[39m\u001b[92m+ GLPK v1.2.1\u001b[39m\n",
            "\u001b[32m\u001b[1m    Updating\u001b[22m\u001b[39m `~/.julia/environments/v1.10/Manifest.toml`\n",
            "  \u001b[90m[60bf3e95] \u001b[39m\u001b[92m+ GLPK v1.2.1\u001b[39m\n",
            "  \u001b[90m[e8aa6df9] \u001b[39m\u001b[92m+ GLPK_jll v5.0.1+1\u001b[39m\n",
            "  \u001b[90m[781609d7] \u001b[39m\u001b[92m+ GMP_jll v6.2.1+6\u001b[39m\n",
            "\u001b[32m\u001b[1mPrecompiling\u001b[22m\u001b[39m packages...\n",
            "    938.2 ms\u001b[32m  ✓ \u001b[39m\u001b[90mGLPK_jll\u001b[39m\n",
            "   7832.7 ms\u001b[32m  ✓ \u001b[39mGLPK\n",
            "  2 dependencies successfully precompiled in 9 seconds. 467 already precompiled.\n"
          ]
        }
      ],
      "source": [
        "using Pkg\n",
        "Pkg.add(\"JuMP\")\n",
        "Pkg.add(\"GLPK\")"
      ]
    },
    {
      "cell_type": "code",
      "source": [
        "using JuMP\n",
        "using GLPK\n",
        "# Define the model\n",
        "model = Model(GLPK.Optimizer)\n",
        "\n",
        "# Define variables\n",
        "@variable(model,y[1:4],Bin)\n",
        "@variable(model,x[1:4],Int)\n",
        "\n",
        "# Define the objective function\n",
        "\n",
        "coef_y = [80, 100, 85, 90]  # Los coeficientes para y\n",
        "coef_x = [0.3, 0.25, 0.28, 0.32]  # Los coeficientes para x\n",
        "\n",
        "@objective(model, Min,sum(coef_y[i]*y[i]+coef_x[i]*x[i] for i in 1:4))"
      ],
      "metadata": {
        "colab": {
          "base_uri": "https://localhost:8080/",
          "height": 38
        },
        "id": "Yg_9__6z6i-m",
        "outputId": "c8bc4e32-4226-4281-bda6-dee510b31af2"
      },
      "execution_count": 35,
      "outputs": [
        {
          "output_type": "execute_result",
          "data": {
            "text/plain": [
              "80 y[1] + 0.3 x[1] + 100 y[2] + 0.25 x[2] + 85 y[3] + 0.28 x[3] + 90 y[4] + 0.32 x[4]"
            ],
            "text/latex": "$ 80 y_{1} + 0.3 x_{1} + 100 y_{2} + 0.25 x_{2} + 85 y_{3} + 0.28 x_{3} + 90 y_{4} + 0.32 x_{4} $"
          },
          "metadata": {},
          "execution_count": 35
        }
      ]
    },
    {
      "cell_type": "code",
      "source": [
        "# Define the constraints\n",
        "costo_por_orno=[1500,2000,1800,1700]\n",
        "@constraint(model, constraint[i=1:4], x[i]-costo_por_orno[i]*y[i] <= 0)\n",
        "@constraint(model, constraint5, x .>= 0)\n",
        "@constraint(model, constraint6, sum(x) == 3000)"
      ],
      "metadata": {
        "colab": {
          "base_uri": "https://localhost:8080/",
          "height": 38
        },
        "id": "ofkM-OIK6jme",
        "outputId": "36ea6213-b01d-4304-f6c5-a9c889634f28"
      },
      "execution_count": 36,
      "outputs": [
        {
          "output_type": "execute_result",
          "data": {
            "text/plain": [
              "constraint6 : x[1] + x[2] + x[3] + x[4] = 3000"
            ],
            "text/latex": "$$ x_{1} + x_{2} + x_{3} + x_{4} = 3000 $$"
          },
          "metadata": {},
          "execution_count": 36
        }
      ]
    },
    {
      "cell_type": "code",
      "source": [
        "println(constraint6)"
      ],
      "metadata": {
        "colab": {
          "base_uri": "https://localhost:8080/"
        },
        "id": "nGd6yscTAfPu",
        "outputId": "020c4b18-759c-4dd1-9d6d-1a13f301ce0e"
      },
      "execution_count": 39,
      "outputs": [
        {
          "output_type": "stream",
          "name": "stdout",
          "text": [
            "constraint6 : x[1] + x[2] + x[3] + x[4] = 3000\n"
          ]
        }
      ]
    },
    {
      "cell_type": "code",
      "source": [
        "println(constraint[1])"
      ],
      "metadata": {
        "colab": {
          "base_uri": "https://localhost:8080/"
        },
        "id": "03BIVE3WBKYs",
        "outputId": "282114a6-a5d0-4669-b516-b19458883a06"
      },
      "execution_count": 26,
      "outputs": [
        {
          "output_type": "stream",
          "name": "stdout",
          "text": [
            "constraint[1] : -1500 y[1] + x[1] ≤ 0\n"
          ]
        }
      ]
    },
    {
      "cell_type": "code",
      "source": [
        "# Solve the model\n",
        "optimize!(model)\n",
        "\n",
        "# Print the results\n",
        "println(\"Objective value: \", objective_value(model))\n",
        "println(\"x = \", JuMP.value.(x))\n",
        "println(\"y = \", JuMP.value.(y))"
      ],
      "metadata": {
        "colab": {
          "base_uri": "https://localhost:8080/"
        },
        "id": "EaB0-OqiBpjM",
        "outputId": "1ae170fd-1f3e-4514-f475-7b67e4bcef1a"
      },
      "execution_count": 40,
      "outputs": [
        {
          "output_type": "stream",
          "name": "stdout",
          "text": [
            "Objective value: 965.0\n",
            "x = [0.0, 2000.0, 1000.0, 0.0]\n",
            "y = [0.0, 1.0, 1.0, 0.0]\n"
          ]
        }
      ]
    },
    {
      "cell_type": "code",
      "source": [],
      "metadata": {
        "id": "fRZxfpigB2i8"
      },
      "execution_count": null,
      "outputs": []
    }
  ]
}